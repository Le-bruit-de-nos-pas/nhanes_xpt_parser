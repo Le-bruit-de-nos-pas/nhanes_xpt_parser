{
  "cells": [
    {
      "cell_type": "code",
      "execution_count": 1,
      "metadata": {
        "id": "FTGNKaf54aL9"
      },
      "outputs": [],
      "source": [
        "import numpy as np\n",
        "import pandas as pd\n",
        "import matplotlib.pyplot as plt"
      ]
    },
    {
      "cell_type": "code",
      "execution_count": 2,
      "metadata": {
        "id": "NSdHZ_K75PxF"
      },
      "outputs": [],
      "source": [
        "np.random.seed(42)\n",
        "\n",
        "population_size = 10_000\n",
        "\n",
        "mean_bmi = 30\n",
        "std_bmi = 7\n",
        "\n",
        "mean_loss_6m = 7.5 / 100  # 7.5%\n",
        "std_loss_6m = 3 / 100  # ±3%\n",
        "mean_loss_12m = 17.5 / 100  # 17.5%\n",
        "std_loss_12m = 5 / 100  # ±5%"
      ]
    },
    {
      "cell_type": "code",
      "execution_count": 3,
      "metadata": {
        "id": "xRPooEjt5SeE"
      },
      "outputs": [],
      "source": [
        "bmi_population_truncated = np.random.normal(mean_bmi, std_bmi, population_size)\n",
        "bmi_population_truncated = bmi_population_truncated[bmi_population_truncated > 25]"
      ]
    },
    {
      "cell_type": "code",
      "execution_count": 4,
      "metadata": {
        "colab": {
          "base_uri": "https://localhost:8080/"
        },
        "id": "vxl-i_2K5iuD",
        "outputId": "3a8bd708-d8c6-4a72-ed6a-9ca4f4495c70"
      },
      "outputs": [
        {
          "data": {
            "text/plain": [
              "7609"
            ]
          },
          "execution_count": 4,
          "metadata": {},
          "output_type": "execute_result"
        }
      ],
      "source": [
        "population_size_truncated = len(bmi_population_truncated)\n",
        "population_size_truncated"
      ]
    },
    {
      "cell_type": "code",
      "execution_count": 5,
      "metadata": {
        "id": "zqjk4rH5507s"
      },
      "outputs": [],
      "source": [
        "loss_6m_truncated = np.random.normal(mean_loss_6m, std_loss_6m, population_size_truncated)\n",
        "loss_12m_truncated = np.random.normal(mean_loss_12m, std_loss_12m, population_size_truncated)"
      ]
    },
    {
      "cell_type": "code",
      "execution_count": 6,
      "metadata": {
        "id": "FJ1Ls0PW53Y7"
      },
      "outputs": [],
      "source": [
        "bmi_after_6m_truncated = bmi_population_truncated * (1 - loss_6m_truncated)\n",
        "bmi_after_12m_truncated = bmi_population_truncated * (1 - loss_12m_truncated)"
      ]
    },
    {
      "cell_type": "code",
      "execution_count": 7,
      "metadata": {
        "id": "EJFb2Lyj57a9"
      },
      "outputs": [],
      "source": [
        "df_truncated = pd.DataFrame({\n",
        "    'Initial BMI': bmi_population_truncated,\n",
        "    'BMI after 6 months': bmi_after_6m_truncated,\n",
        "    'BMI after 12 months': bmi_after_12m_truncated\n",
        "})"
      ]
    },
    {
      "cell_type": "code",
      "execution_count": 8,
      "metadata": {
        "colab": {
          "base_uri": "https://localhost:8080/",
          "height": 300
        },
        "id": "OGNugsQo59zE",
        "outputId": "88e70797-dcd3-410f-f5ae-aa19076d0e7b"
      },
      "outputs": [
        {
          "data": {
            "text/html": [
              "<div>\n",
              "<style scoped>\n",
              "    .dataframe tbody tr th:only-of-type {\n",
              "        vertical-align: middle;\n",
              "    }\n",
              "\n",
              "    .dataframe tbody tr th {\n",
              "        vertical-align: top;\n",
              "    }\n",
              "\n",
              "    .dataframe thead th {\n",
              "        text-align: right;\n",
              "    }\n",
              "</style>\n",
              "<table border=\"1\" class=\"dataframe\">\n",
              "  <thead>\n",
              "    <tr style=\"text-align: right;\">\n",
              "      <th></th>\n",
              "      <th>Initial BMI</th>\n",
              "      <th>BMI after 6 months</th>\n",
              "      <th>BMI after 12 months</th>\n",
              "    </tr>\n",
              "  </thead>\n",
              "  <tbody>\n",
              "    <tr>\n",
              "      <th>count</th>\n",
              "      <td>7609.000000</td>\n",
              "      <td>7609.000000</td>\n",
              "      <td>7609.000000</td>\n",
              "    </tr>\n",
              "    <tr>\n",
              "      <th>mean</th>\n",
              "      <td>32.847494</td>\n",
              "      <td>30.372417</td>\n",
              "      <td>27.120660</td>\n",
              "    </tr>\n",
              "    <tr>\n",
              "      <th>std</th>\n",
              "      <td>5.184201</td>\n",
              "      <td>4.904382</td>\n",
              "      <td>4.615871</td>\n",
              "    </tr>\n",
              "    <tr>\n",
              "      <th>min</th>\n",
              "      <td>25.001544</td>\n",
              "      <td>21.175161</td>\n",
              "      <td>17.639147</td>\n",
              "    </tr>\n",
              "    <tr>\n",
              "      <th>25%</th>\n",
              "      <td>28.712117</td>\n",
              "      <td>26.522395</td>\n",
              "      <td>23.588532</td>\n",
              "    </tr>\n",
              "    <tr>\n",
              "      <th>50%</th>\n",
              "      <td>32.113114</td>\n",
              "      <td>29.700542</td>\n",
              "      <td>26.450815</td>\n",
              "    </tr>\n",
              "    <tr>\n",
              "      <th>75%</th>\n",
              "      <td>36.109720</td>\n",
              "      <td>33.413077</td>\n",
              "      <td>30.035768</td>\n",
              "    </tr>\n",
              "    <tr>\n",
              "      <th>max</th>\n",
              "      <td>57.483664</td>\n",
              "      <td>53.760628</td>\n",
              "      <td>53.398069</td>\n",
              "    </tr>\n",
              "  </tbody>\n",
              "</table>\n",
              "</div>"
            ],
            "text/plain": [
              "       Initial BMI  BMI after 6 months  BMI after 12 months\n",
              "count  7609.000000         7609.000000          7609.000000\n",
              "mean     32.847494           30.372417            27.120660\n",
              "std       5.184201            4.904382             4.615871\n",
              "min      25.001544           21.175161            17.639147\n",
              "25%      28.712117           26.522395            23.588532\n",
              "50%      32.113114           29.700542            26.450815\n",
              "75%      36.109720           33.413077            30.035768\n",
              "max      57.483664           53.760628            53.398069"
            ]
          },
          "execution_count": 8,
          "metadata": {},
          "output_type": "execute_result"
        }
      ],
      "source": [
        "summary_stats_truncated = df_truncated.describe()\n",
        "summary_stats_truncated"
      ]
    },
    {
      "cell_type": "code",
      "execution_count": 9,
      "metadata": {
        "id": "hX7DarKx6DtN"
      },
      "outputs": [],
      "source": [
        "initial_above_30_truncated = (df_truncated['Initial BMI'] > 30).mean() * 100\n",
        "initial_above_25_truncated = (df_truncated['Initial BMI'] > 25).mean() * 100\n",
        "after_6m_above_30_truncated = (df_truncated['BMI after 6 months'] > 30).mean() * 100\n",
        "after_6m_above_25_truncated = (df_truncated['BMI after 6 months'] > 25).mean() * 100\n",
        "after_12m_above_30_truncated = (df_truncated['BMI after 12 months'] > 30).mean() * 100\n",
        "after_12m_above_25_truncated = (df_truncated['BMI after 12 months'] > 25).mean() * 100\n"
      ]
    },
    {
      "cell_type": "code",
      "execution_count": 10,
      "metadata": {
        "colab": {
          "base_uri": "https://localhost:8080/"
        },
        "id": "REKfL1XE6Gzo",
        "outputId": "4f3311e0-73d2-4b86-fcd2-e39de11ff48c"
      },
      "outputs": [
        {
          "data": {
            "text/plain": [
              "{'Percentage > 30 (Initial)': 65.606518596399,\n",
              " 'Percentage > 25 (Initial)': 100.0,\n",
              " 'Percentage > 30 (After 6 months)': 47.73294782494414,\n",
              " 'Percentage > 25 (After 6 months)': 86.45025627546326,\n",
              " 'Percentage > 30 (After 12 months)': 25.128137731633593,\n",
              " 'Percentage > 25 (After 12 months)': 62.88605598633198}"
            ]
          },
          "execution_count": 10,
          "metadata": {},
          "output_type": "execute_result"
        }
      ],
      "source": [
        "results_truncated = {\n",
        "    'Percentage > 30 (Initial)': initial_above_30_truncated,\n",
        "    'Percentage > 25 (Initial)': initial_above_25_truncated,\n",
        "    'Percentage > 30 (After 6 months)': after_6m_above_30_truncated,\n",
        "    'Percentage > 25 (After 6 months)': after_6m_above_25_truncated,\n",
        "    'Percentage > 30 (After 12 months)': after_12m_above_30_truncated,\n",
        "    'Percentage > 25 (After 12 months)': after_12m_above_25_truncated\n",
        "}\n",
        "\n",
        "results_truncated"
      ]
    },
    {
      "cell_type": "code",
      "execution_count": 11,
      "metadata": {
        "colab": {
          "base_uri": "https://localhost:8080/",
          "height": 585
        },
        "id": "h7Uq010z6IkI",
        "outputId": "c800f662-c264-4522-b5d3-d736c5d0634c"
      },
      "outputs": [
        {
          "data": {
            "image/png": "[encoded data removed]",
            "text/plain": [
              "<Figure size 1000x600 with 1 Axes>"
            ]
          },
          "metadata": {},
          "output_type": "display_data"
        }
      ],
      "source": [
        "# Visualizing the truncated BMI distributions\n",
        "plt.figure(figsize=(10, 6))\n",
        "plt.hist(df_truncated['Initial BMI'], bins=100, alpha=0.75, label='Initial BMI', color='#992020')\n",
        "plt.hist(df_truncated['BMI after 6 months'], bins=100, alpha=0.3, label='BMI after 6 months', color='#094d58')\n",
        "plt.hist(df_truncated['BMI after 12 months'], bins=100, alpha=0.3, label='BMI after 12 months', color='#69bac8')\n",
        "\n",
        "plt.title('BMI Distributions Before and After GLP-1 \\n (Truncated US Population BMI>25)')\n",
        "plt.xlabel('BMI')\n",
        "plt.ylabel('Patient sample count \\n [out of 7609]')\n",
        "plt.legend()\n",
        "plt.grid(False)\n",
        "plt.show()\n"
      ]
    },
    {
      "cell_type": "code",
      "execution_count": 12,
      "metadata": {
        "id": "qUNy2nw-7Cvy"
      },
      "outputs": [
        {
          "data": {
            "text/plain": [
              "7608    2249\n",
              "7607     157\n",
              "7606    5238\n",
              "7605    6261\n",
              "7604    2864\n",
              "        ... \n",
              "4       2443\n",
              "3       2519\n",
              "2        502\n",
              "1       3896\n",
              "0       5848\n",
              "Name: Initial BMI, Length: 7609, dtype: int64"
            ]
          },
          "execution_count": 12,
          "metadata": {},
          "output_type": "execute_result"
        }
      ],
      "source": [
        "# Rank the initial BMIs and assign weight loss reductions proportional to rank\n",
        "\n",
        "ranked_indices = np.argsort(df_truncated['Initial BMI'])[::-1]\n",
        "ranked_indices"
      ]
    },
    {
      "cell_type": "code",
      "execution_count": 13,
      "metadata": {},
      "outputs": [],
      "source": [
        "# Generate weight loss reductions proportional to rank\n",
        "# We'll assign the weight loss from 7.5% to 7.5% + 3% (for 6 months) and 17.5% to 17.5% + 5% (for 12 months)\n",
        "# The highest BMI will get the maximum possible reduction, and the lowest will get the minimum\n",
        "\n",
        "# Scale the weight loss based on ranking\n",
        "loss_6m_adjusted = np.linspace(mean_loss_6m - std_loss_6m, mean_loss_6m + std_loss_6m, population_size_truncated)\n",
        "loss_12m_adjusted = np.linspace(mean_loss_12m - std_loss_12m, mean_loss_12m + std_loss_12m, population_size_truncated)\n",
        "\n"
      ]
    },
    {
      "cell_type": "code",
      "execution_count": 21,
      "metadata": {},
      "outputs": [
        {
          "data": {
            "text/plain": [
              "array([0.125     , 0.12501314, 0.12502629, ..., 0.22497371, 0.22498686,\n",
              "       0.225     ])"
            ]
          },
          "execution_count": 21,
          "metadata": {},
          "output_type": "execute_result"
        }
      ],
      "source": [
        "loss_12m_adjusted"
      ]
    },
    {
      "cell_type": "code",
      "execution_count": 16,
      "metadata": {},
      "outputs": [
        {
          "data": {
            "text/plain": [
              "array([0.15456099, 0.12706362, 0.19384858, ..., 0.13159832, 0.17620925,\n",
              "       0.20186646])"
            ]
          },
          "execution_count": 16,
          "metadata": {},
          "output_type": "execute_result"
        }
      ],
      "source": [
        "# Apply the loss adjustments to the BMI population, based on the ranked indices\n",
        "adjusted_loss_6m = loss_6m_adjusted[ranked_indices]\n",
        "adjusted_loss_12m = loss_12m_adjusted[ranked_indices]\n",
        "adjusted_loss_6m\n",
        "adjusted_loss_12m"
      ]
    },
    {
      "cell_type": "code",
      "execution_count": 25,
      "metadata": {},
      "outputs": [
        {
          "data": {
            "text/plain": [
              "array([25.00154417, 25.00490731, 25.01007952, ..., 54.70338631,\n",
              "       56.96912043, 57.48366395])"
            ]
          },
          "execution_count": 25,
          "metadata": {},
          "output_type": "execute_result"
        }
      ],
      "source": [
        "bmi_population_truncated.sort()\n",
        "bmi_population_truncated"
      ]
    },
    {
      "cell_type": "code",
      "execution_count": 26,
      "metadata": {},
      "outputs": [
        {
          "data": {
            "text/plain": [
              "array([21.13728079, 21.82769334, 20.16191111, ..., 47.50451271,\n",
              "       46.93063425, 45.87964041])"
            ]
          },
          "execution_count": 26,
          "metadata": {},
          "output_type": "execute_result"
        }
      ],
      "source": [
        "# Apply the adjusted reductions to the BMI population\n",
        "bmi_after_6m_adjusted = bmi_population_truncated * (1 - adjusted_loss_6m)\n",
        "bmi_after_12m_adjusted = bmi_population_truncated * (1 - adjusted_loss_12m)\n",
        "bmi_after_12m_adjusted\n"
      ]
    },
    {
      "cell_type": "code",
      "execution_count": 27,
      "metadata": {},
      "outputs": [
        {
          "data": {
            "text/plain": [
              "array([25.00154417, 25.00490731, 25.01007952, ..., 54.70338631,\n",
              "       56.96912043, 57.48366395])"
            ]
          },
          "execution_count": 27,
          "metadata": {},
          "output_type": "execute_result"
        }
      ],
      "source": [
        "bmi_population_truncated"
      ]
    },
    {
      "cell_type": "code",
      "execution_count": 28,
      "metadata": {},
      "outputs": [
        {
          "data": {
            "text/html": [
              "<div>\n",
              "<style scoped>\n",
              "    .dataframe tbody tr th:only-of-type {\n",
              "        vertical-align: middle;\n",
              "    }\n",
              "\n",
              "    .dataframe tbody tr th {\n",
              "        vertical-align: top;\n",
              "    }\n",
              "\n",
              "    .dataframe thead th {\n",
              "        text-align: right;\n",
              "    }\n",
              "</style>\n",
              "<table border=\"1\" class=\"dataframe\">\n",
              "  <thead>\n",
              "    <tr style=\"text-align: right;\">\n",
              "      <th></th>\n",
              "      <th>Initial BMI</th>\n",
              "      <th>BMI after 6 months (Adjusted)</th>\n",
              "      <th>BMI after 12 months (Adjusted)</th>\n",
              "    </tr>\n",
              "  </thead>\n",
              "  <tbody>\n",
              "    <tr>\n",
              "      <th>count</th>\n",
              "      <td>7609.000000</td>\n",
              "      <td>7609.000000</td>\n",
              "      <td>7609.000000</td>\n",
              "    </tr>\n",
              "    <tr>\n",
              "      <th>mean</th>\n",
              "      <td>32.847494</td>\n",
              "      <td>30.384228</td>\n",
              "      <td>27.099676</td>\n",
              "    </tr>\n",
              "    <tr>\n",
              "      <th>std</th>\n",
              "      <td>5.184201</td>\n",
              "      <td>4.832807</td>\n",
              "      <td>4.388172</td>\n",
              "    </tr>\n",
              "    <tr>\n",
              "      <th>min</th>\n",
              "      <td>25.001544</td>\n",
              "      <td>22.549190</td>\n",
              "      <td>19.581007</td>\n",
              "    </tr>\n",
              "    <tr>\n",
              "      <th>25%</th>\n",
              "      <td>28.712117</td>\n",
              "      <td>26.583248</td>\n",
              "      <td>23.641944</td>\n",
              "    </tr>\n",
              "    <tr>\n",
              "      <th>50%</th>\n",
              "      <td>32.113114</td>\n",
              "      <td>29.684623</td>\n",
              "      <td>26.479186</td>\n",
              "    </tr>\n",
              "    <tr>\n",
              "      <th>75%</th>\n",
              "      <td>36.109720</td>\n",
              "      <td>33.433835</td>\n",
              "      <td>29.829094</td>\n",
              "    </tr>\n",
              "    <tr>\n",
              "      <th>max</th>\n",
              "      <td>57.483664</td>\n",
              "      <td>52.655102</td>\n",
              "      <td>47.504513</td>\n",
              "    </tr>\n",
              "  </tbody>\n",
              "</table>\n",
              "</div>"
            ],
            "text/plain": [
              "       Initial BMI  BMI after 6 months (Adjusted)  \\\n",
              "count  7609.000000                    7609.000000   \n",
              "mean     32.847494                      30.384228   \n",
              "std       5.184201                       4.832807   \n",
              "min      25.001544                      22.549190   \n",
              "25%      28.712117                      26.583248   \n",
              "50%      32.113114                      29.684623   \n",
              "75%      36.109720                      33.433835   \n",
              "max      57.483664                      52.655102   \n",
              "\n",
              "       BMI after 12 months (Adjusted)  \n",
              "count                     7609.000000  \n",
              "mean                        27.099676  \n",
              "std                          4.388172  \n",
              "min                         19.581007  \n",
              "25%                         23.641944  \n",
              "50%                         26.479186  \n",
              "75%                         29.829094  \n",
              "max                         47.504513  "
            ]
          },
          "execution_count": 28,
          "metadata": {},
          "output_type": "execute_result"
        }
      ],
      "source": [
        "# Create a DataFrame with adjusted reductions\n",
        "df_adjusted = pd.DataFrame({\n",
        "    'Initial BMI': bmi_population_truncated,\n",
        "    'BMI after 6 months (Adjusted)': bmi_after_6m_adjusted,\n",
        "    'BMI after 12 months (Adjusted)': bmi_after_12m_adjusted\n",
        "})\n",
        "\n",
        "# Summary statistics for adjusted data\n",
        "summary_stats_adjusted = df_adjusted.describe()\n",
        "summary_stats_adjusted"
      ]
    },
    {
      "cell_type": "code",
      "execution_count": 29,
      "metadata": {},
      "outputs": [
        {
          "data": {
            "text/plain": [
              "{'Percentage > 30 (Initial)': 65.606518596399,\n",
              " 'Percentage > 25 (Initial)': 100.0,\n",
              " 'Percentage > 30 (After 6 months)': 47.81180181364174,\n",
              " 'Percentage > 25 (After 6 months)': 87.06794585359444,\n",
              " 'Percentage > 30 (After 12 months)': 23.945327901169666,\n",
              " 'Percentage > 25 (After 12 months)': 63.33289525561835}"
            ]
          },
          "execution_count": 29,
          "metadata": {},
          "output_type": "execute_result"
        }
      ],
      "source": [
        "# Calculate percentage of individuals with BMI > 30 and > 25 before and after treatment with adjusted reductions\n",
        "initial_above_30_adjusted = (df_adjusted['Initial BMI'] > 30).mean() * 100\n",
        "initial_above_25_adjusted = (df_adjusted['Initial BMI'] > 25).mean() * 100\n",
        "after_6m_above_30_adjusted = (df_adjusted['BMI after 6 months (Adjusted)'] > 30).mean() * 100\n",
        "after_6m_above_25_adjusted = (df_adjusted['BMI after 6 months (Adjusted)'] > 25).mean() * 100\n",
        "after_12m_above_30_adjusted = (df_adjusted['BMI after 12 months (Adjusted)'] > 30).mean() * 100\n",
        "after_12m_above_25_adjusted = (df_adjusted['BMI after 12 months (Adjusted)'] > 25).mean() * 100\n",
        "\n",
        "# Prepare the results for easy display\n",
        "results_adjusted = {\n",
        "    'Percentage > 30 (Initial)': initial_above_30_adjusted,\n",
        "    'Percentage > 25 (Initial)': initial_above_25_adjusted,\n",
        "    'Percentage > 30 (After 6 months)': after_6m_above_30_adjusted,\n",
        "    'Percentage > 25 (After 6 months)': after_6m_above_25_adjusted,\n",
        "    'Percentage > 30 (After 12 months)': after_12m_above_30_adjusted,\n",
        "    'Percentage > 25 (After 12 months)': after_12m_above_25_adjusted\n",
        "}\n",
        "\n",
        "results_adjusted"
      ]
    }
  ],
  "metadata": {
    "colab": {
      "provenance": []
    },
    "kernelspec": {
      "display_name": "Python 3",
      "name": "python3"
    },
    "language_info": {
      "codemirror_mode": {
        "name": "ipython",
        "version": 3
      },
      "file_extension": ".py",
      "mimetype": "text/x-python",
      "name": "python",
      "nbconvert_exporter": "python",
      "pygments_lexer": "ipython3",
      "version": "3.10.6"
    }
  },
  "nbformat": 4,
  "nbformat_minor": 0
}
